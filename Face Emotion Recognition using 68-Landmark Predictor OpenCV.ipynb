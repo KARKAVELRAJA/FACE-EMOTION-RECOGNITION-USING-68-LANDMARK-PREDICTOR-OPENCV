{
 "cells": [
  {
   "cell_type": "markdown",
   "metadata": {},
   "source": [
    "# Face Emotion Recognition using 68-Landmark Predictor OpenCV"
   ]
  },
  {
   "cell_type": "code",
   "execution_count": null,
   "metadata": {},
   "outputs": [],
   "source": [
    "# Installing the required library\n",
    "\n",
    "!pip install facial-emotion-recognition"
   ]
  },
  {
   "cell_type": "code",
   "execution_count": 2,
   "metadata": {},
   "outputs": [
    {
     "name": "stdout",
     "output_type": "stream",
     "text": [
      "[*] Accuracy: 0.9565809379727686\n",
      "No face detected\n",
      "No face detected\n"
     ]
    }
   ],
   "source": [
    "# Recognizing the Facial Emotions\n",
    "\n",
    "from facial_emotion_recognition import EmotionRecognition\n",
    "import cv2\n",
    "\n",
    "er     = EmotionRecognition(device=\"cpu\")\n",
    "\n",
    "camera = cv2.VideoCapture(0)\n",
    "\n",
    "while True:\n",
    "    _, frame = camera.read()\n",
    "    frame    = cv2.flip(frame,1)\n",
    "    frame    = er.recognise_emotion(frame,return_type=\"BGR\")\n",
    "    cv2.imshow(\"frame\",frame)\n",
    "    if cv2.waitKey(1) == ord(\"q\"):\n",
    "        break\n",
    "\n",
    "camera.release()\n",
    "cv2.destroyAllWindows()"
   ]
  }
 ],
 "metadata": {
  "kernelspec": {
   "display_name": "Python 3",
   "language": "python",
   "name": "python3"
  },
  "language_info": {
   "codemirror_mode": {
    "name": "ipython",
    "version": 3
   },
   "file_extension": ".py",
   "mimetype": "text/x-python",
   "name": "python",
   "nbconvert_exporter": "python",
   "pygments_lexer": "ipython3",
   "version": "3.8.5"
  }
 },
 "nbformat": 4,
 "nbformat_minor": 4
}
